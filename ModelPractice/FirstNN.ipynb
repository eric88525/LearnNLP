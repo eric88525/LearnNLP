{
 "cells": [
  {
   "cell_type": "markdown",
   "metadata": {},
   "source": [
    "# 實作NN with input :1000  hidden :100 output :10\n"
   ]
  },
  {
   "cell_type": "markdown",
   "metadata": {},
   "source": [
    "# 1. 原始版本"
   ]
  },
  {
   "cell_type": "code",
   "execution_count": 1,
   "metadata": {},
   "outputs": [
    {
     "name": "stdout",
     "output_type": "stream",
     "text": [
      "done\n"
     ]
    }
   ],
   "source": [
    "import torch\n",
    "dtype = torch.float\n",
    "device = torch.device(\"cuda:0\")\n",
    "# N = batch size\n",
    "N,D_in,D_hidden,D_out = 64,1000,100,10\n",
    "\n",
    "# 隨便的輸入和輸出\n",
    "x = torch.randn(N,D_in,device = device,dtype=dtype)\n",
    "y = torch.randn(N,D_out,device = device,dtype=dtype)\n",
    "\n",
    "# 權重\n",
    "w1 = torch.randn(D_in,D_hidden,device = device,dtype=dtype)\n",
    "w2 = torch.randn(D_hidden,D_out,device = device,dtype=dtype)\n",
    "\n",
    "learning_rate = 1e-6\n",
    "for t in range(500):\n",
    "    # 輸入*w1\n",
    "    h = x.mm(w1)\n",
    "    # 進行 relu: 0以下去掉\n",
    "    h_relu = h.clamp(min=0)\n",
    "    # 去掉後*w2\n",
    "    y_pred = h_relu.mm(w2)\n",
    "    # 計算loss\n",
    "    loss = (y_pred - y).pow(2).sum().item()\n",
    "    \n",
    "    # loss function 當下的斜率\n",
    "    grad_y_pred = -2.0*(y-y_pred)\n",
    "    # t() 是 transpose的意思\n",
    "    \n",
    "    # 算backword\n",
    "    grad_w2 = h_relu.t().mm(grad_y_pred)\n",
    "    grad_h_relu = grad_y_pred.mm(w2.t())\n",
    "    grad_h = grad_h_relu.clone()\n",
    "    grad_h[h<0]=0\n",
    "    grad_w1 = x.t().mm(grad_h)\n",
    "    \n",
    "    w1 -= learning_rate*grad_w1\n",
    "    w2 -= learning_rate*grad_w2\n",
    "print('done')"
   ]
  },
  {
   "cell_type": "markdown",
   "metadata": {},
   "source": [
    "# 2. 用autograd  package 自動微分和求反導\n",
    "+ requires_grad=True 可以記錄梯度過程，自動Back-propagation\n",
    "+ [求梯度](https://zhuanlan.zhihu.com/p/81369826)"
   ]
  },
  {
   "cell_type": "code",
   "execution_count": 4,
   "metadata": {},
   "outputs": [
    {
     "name": "stdout",
     "output_type": "stream",
     "text": [
      "CUDA\n",
      "99 385.69366455078125\n",
      "199 1.1587060689926147\n",
      "299 0.00535293435677886\n",
      "399 0.00014542671851813793\n",
      "499 3.056876448681578e-05\n"
     ]
    }
   ],
   "source": [
    "import torch\n",
    "import torch.nn as nn\n",
    "dtype = torch.float\n",
    "if torch.cuda.is_available():\n",
    "    device = torch.device(\"cuda:0\")\n",
    "    print('CUDA')\n",
    "else:\n",
    "    device = torch.device(\"cpu\")\n",
    "    print('CPU')\n",
    "\n",
    "N,D_in,D_hidden,D_out = 64,1000,100,10\n",
    "\n",
    "# 隨便的輸入和輸出\n",
    "x = torch.randn(N,D_in,device = device,dtype=dtype)\n",
    "y = torch.randn(N,D_out,device = device,dtype=dtype)\n",
    "\n",
    "# 權重\n",
    "w1 = torch.randn(D_in,D_hidden,device = device,dtype=dtype,requires_grad=True)\n",
    "w2 = torch.randn(D_hidden,D_out,device = device,dtype=dtype,requires_grad=True)\n",
    "\n",
    "learning_rate = 1e-6\n",
    "\n",
    "mse_loss = nn.MSELoss(reduction='sum')\n",
    "\n",
    "for t in range(500):\n",
    "    y_pred = x.mm(w1).clamp(min=0).mm(w2)\n",
    "\n",
    "\n",
    "    # mean squre loss\n",
    "    loss = mse_loss(y_pred,y)\n",
    "    \n",
    "    if(t%100 == 99):\n",
    "        print(t,loss.item())\n",
    "        \n",
    "    # 自動BP    \n",
    "    loss.backward()\n",
    "     \n",
    "    with torch.no_grad():\n",
    "        w1 -= learning_rate*w1.grad\n",
    "        w2 -= learning_rate*w2.grad\n",
    "        \n",
    "        w1.grad.zero_()\n",
    "        w2.grad.zero_()"
   ]
  },
  {
   "cell_type": "markdown",
   "metadata": {},
   "source": [
    "# 3. 用sequential 建造 model"
   ]
  },
  {
   "cell_type": "code",
   "execution_count": 6,
   "metadata": {},
   "outputs": [
    {
     "name": "stdout",
     "output_type": "stream",
     "text": [
      "99 0.9884147047996521\n",
      "199 0.9760690927505493\n",
      "299 0.9639668464660645\n",
      "399 0.9521039724349976\n",
      "499 0.9405290484428406\n"
     ]
    }
   ],
   "source": [
    "import torch\n",
    "N,D_in,D_hidden,D_out = 64,1000,100,10\n",
    "\n",
    "x = torch.randn(N,D_in)\n",
    "y = torch.randn(N,D_out)\n",
    "\n",
    "model = torch.nn.Sequential(\n",
    "    torch.nn.Linear(D_in,D_hidden),\n",
    "    torch.nn.ReLU(),\n",
    "    torch.nn.Linear(D_hidden,D_out),\n",
    ")\n",
    "\n",
    "lossfn = torch.nn.MSELoss()\n",
    "learning_rate = 1e-4\n",
    "\n",
    "for t in range(500):\n",
    "    y_pred = model(x)\n",
    "    \n",
    "    loss = lossfn(y_pred,y)\n",
    "    \n",
    "    if t % 100 == 99:\n",
    "        print(t, loss.item())\n",
    "    \n",
    "    model.zero_grad()\n",
    "    loss.backward()\n",
    "    # 去除grad計算，因為他只是要update value 而已        \n",
    "    with torch.no_grad():\n",
    "        for param in model.parameters():\n",
    "            param -= learning_rate * param.grad\n"
   ]
  },
  {
   "cell_type": "markdown",
   "metadata": {},
   "source": [
    "# 4. 客製化NN MODEL\n",
    "+ [Optimizer 種類](https://medium.com/%E9%9B%9E%E9%9B%9E%E8%88%87%E5%85%94%E5%85%94%E7%9A%84%E5%B7%A5%E7%A8%8B%E4%B8%96%E7%95%8C/%E6%A9%9F%E5%99%A8%E5%AD%B8%E7%BF%92ml-note-sgd-momentum-adagrad-adam-optimizer-f20568c968db)\n",
    "+ [Auto grad](https://pytorch.org/tutorials/beginner/former_torchies/autograd_tutorial_old.html?highlight=torch%20autograd%20backward)"
   ]
  },
  {
   "cell_type": "code",
   "execution_count": 10,
   "metadata": {},
   "outputs": [
    {
     "name": "stdout",
     "output_type": "stream",
     "text": [
      "step loss\n"
     ]
    },
    {
     "name": "stderr",
     "output_type": "stream",
     "text": [
      "0% [##############################] 100% | ETA: 00:00:00\n",
      "Total time elapsed: 00:00:06\n"
     ]
    }
   ],
   "source": [
    "import torch\n",
    "\n",
    "import pyprind\n",
    "\n",
    "device = torch.device(\"cuda:0\")\n",
    "\n",
    "class myNN(torch.nn.Module):\n",
    "    def __init__(self,D_in,D_hidden,D_out):\n",
    "        super(myNN,self).__init__()\n",
    "        # layer 1\n",
    "        self.linear1 = torch.nn.Linear(D_in,D_hidden)\n",
    "        # layer 2\n",
    "        self.linear2 = torch.nn.Linear(D_hidden,D_out)\n",
    "        # 激勵\n",
    "        self.activation = torch.nn.ReLU()\n",
    "        self.lossfn = torch.nn.MSELoss()\n",
    "    # 訓練 \n",
    "    def forward(self,x):\n",
    "        l1 = self.linear1(x)\n",
    "        l1_act = self.activation(l1)\n",
    "        y_pred = self.linear2(l1_act)\n",
    "        return y_pred\n",
    "\n",
    "\n",
    "N,D_in,D_hidden,D_out = 64,1000,100,10\n",
    "x = torch.randn(N,D_in)\n",
    "y = torch.randn(N,D_out)\n",
    "\n",
    "model = myNN(D_in, D_hidden, D_out)\n",
    "\n",
    "\n",
    "\n",
    "# 用於更新參數\n",
    "optimizer = torch.optim.SGD(model.parameters(),lr=1e-4)\n",
    "#optimizer = torch.optim.Adam(model.parameters(),lr=1e-4)\n",
    "print('step','loss')\n",
    "\n",
    "pbar = pyprind.ProgBar(5000)\n",
    "\n",
    "for t in range(5000):\n",
    "    pbar.update()\n",
    "    y_pred = model(x)\n",
    "    \n",
    "    loss = model.lossfn(y_pred,y)\n",
    "    #if t%100==99:\n",
    "    #    print(t,loss.item(),end = '')\n",
    "\n",
    "    # 梯度初始化\n",
    "    optimizer.zero_grad()\n",
    "    \n",
    "    # 計算 backward\n",
    "    loss.backward()\n",
    "    \n",
    "    # 更新參數\n",
    "    optimizer.step()"
   ]
  },
  {
   "cell_type": "code",
   "execution_count": null,
   "metadata": {},
   "outputs": [],
   "source": []
  },
  {
   "cell_type": "code",
   "execution_count": null,
   "metadata": {},
   "outputs": [],
   "source": []
  }
 ],
 "metadata": {
  "kernelspec": {
   "display_name": "Python 3",
   "language": "python",
   "name": "python3"
  },
  "language_info": {
   "codemirror_mode": {
    "name": "ipython",
    "version": 3
   },
   "file_extension": ".py",
   "mimetype": "text/x-python",
   "name": "python",
   "nbconvert_exporter": "python",
   "pygments_lexer": "ipython3",
   "version": "3.7.3"
  }
 },
 "nbformat": 4,
 "nbformat_minor": 2
}
