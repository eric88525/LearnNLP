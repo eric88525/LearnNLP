{
 "cells": [
  {
   "cell_type": "code",
   "execution_count": 1,
   "metadata": {},
   "outputs": [
    {
     "ename": "ModuleNotFoundError",
     "evalue": "No module named 'BertWordEmbeddingClass'",
     "output_type": "error",
     "traceback": [
      "\u001b[1;31m---------------------------------------------------------------------------\u001b[0m",
      "\u001b[1;31mModuleNotFoundError\u001b[0m                       Traceback (most recent call last)",
      "\u001b[1;32m<ipython-input-1-de2ebfcb08e5>\u001b[0m in \u001b[0;36m<module>\u001b[1;34m\u001b[0m\n\u001b[0;32m      1\u001b[0m \u001b[1;33m\u001b[0m\u001b[0m\n\u001b[1;32m----> 2\u001b[1;33m \u001b[1;32mfrom\u001b[0m \u001b[0mBertWordEmbeddingClass\u001b[0m \u001b[1;32mimport\u001b[0m \u001b[0mbertWordEmbedding\u001b[0m\u001b[1;33m\u001b[0m\u001b[1;33m\u001b[0m\u001b[0m\n\u001b[0m\u001b[0;32m      3\u001b[0m \u001b[0ma\u001b[0m \u001b[1;33m=\u001b[0m \u001b[0mbertWordEmbedding\u001b[0m\u001b[1;33m(\u001b[0m\u001b[1;33m)\u001b[0m\u001b[1;33m\u001b[0m\u001b[1;33m\u001b[0m\u001b[0m\n",
      "\u001b[1;31mModuleNotFoundError\u001b[0m: No module named 'BertWordEmbeddingClass'"
     ]
    }
   ],
   "source": [
    "from BertWordEmbeddingClass import bertWordEmbedding\n",
    "a = bertWordEmbedding()\n"
   ]
  },
  {
   "cell_type": "code",
   "execution_count": null,
   "metadata": {},
   "outputs": [],
   "source": [
    "text = 'hello guys'\n",
    "b = a.word2vec(text)\n",
    "\n"
   ]
  },
  {
   "cell_type": "code",
   "execution_count": null,
   "metadata": {},
   "outputs": [],
   "source": [
    "print(b[0][0],len(b[0][0]))"
   ]
  },
  {
   "cell_type": "code",
   "execution_count": null,
   "metadata": {},
   "outputs": [],
   "source": [
    "print(b[0][1],len(b[0][1]))"
   ]
  },
  {
   "cell_type": "code",
   "execution_count": null,
   "metadata": {},
   "outputs": [],
   "source": [
    "print(b[1],len(b[1]))"
   ]
  },
  {
   "cell_type": "code",
   "execution_count": 2,
   "metadata": {},
   "outputs": [],
   "source": [
    "import torch\n",
    "import torch.nn as nn\n",
    "import torch.nn.functional as F\n",
    "from torch.autograd import Variable"
   ]
  },
  {
   "cell_type": "code",
   "execution_count": 3,
   "metadata": {},
   "outputs": [
    {
     "name": "stdout",
     "output_type": "stream",
     "text": [
      "tensor([[[1., 1., 1., 1., 1., 1., 1.]],\n",
      "\n",
      "        [[1., 1., 1., 1., 1., 1., 1.]],\n",
      "\n",
      "        [[1., 1., 1., 1., 1., 1., 1.]]]) torch.Size([3, 1, 7])\n",
      "tensor([[[1., 1., 1., 1., 1., 1., 1.],\n",
      "         [1., 1., 1., 1., 1., 1., 1.],\n",
      "         [1., 1., 1., 1., 1., 1., 1.]]]) torch.Size([1, 3, 7])\n",
      "tensor([[[2., 2., 2., 2., 2., 2., 2.],\n",
      "         [2., 2., 2., 2., 2., 2., 2.],\n",
      "         [2., 2., 2., 2., 2., 2., 2.]],\n",
      "\n",
      "        [[2., 2., 2., 2., 2., 2., 2.],\n",
      "         [2., 2., 2., 2., 2., 2., 2.],\n",
      "         [2., 2., 2., 2., 2., 2., 2.]],\n",
      "\n",
      "        [[2., 2., 2., 2., 2., 2., 2.],\n",
      "         [2., 2., 2., 2., 2., 2., 2.],\n",
      "         [2., 2., 2., 2., 2., 2., 2.]]]) torch.Size([3, 3, 7])\n"
     ]
    }
   ],
   "source": [
    "n = 3\n",
    "a = torch.ones(n,7)\n",
    "b = torch.ones(n,7)\n",
    "\n",
    "a = a.unsqueeze(-2)\n",
    "b = b.unsqueeze(-3)\n",
    "\n",
    "print(a,a.size())\n",
    "print(b,b.size())\n",
    "c = a+b\n",
    "print(c,c.size())"
   ]
  },
  {
   "cell_type": "code",
   "execution_count": 4,
   "metadata": {},
   "outputs": [
    {
     "data": {
      "text/plain": [
       "tensor([[[1., 1., 1., 1., 1., 1., 1.]],\n",
       "\n",
       "        [[1., 1., 1., 1., 1., 1., 1.]],\n",
       "\n",
       "        [[1., 1., 1., 1., 1., 1., 1.]]])"
      ]
     },
     "execution_count": 4,
     "metadata": {},
     "output_type": "execute_result"
    }
   ],
   "source": [
    "a.narrow(-3,0,a.size(-3))\n"
   ]
  },
  {
   "cell_type": "code",
   "execution_count": 5,
   "metadata": {},
   "outputs": [
    {
     "name": "stdout",
     "output_type": "stream",
     "text": [
      "tensor([[[[1., 1., 1., 1.]],\n",
      "\n",
      "         [[1., 1., 1., 1.]]],\n",
      "\n",
      "\n",
      "        [[[1., 1., 1., 1.]],\n",
      "\n",
      "         [[1., 1., 1., 1.]]]])\n",
      "torch.Size([2, 2, 1, 4])\n",
      "tensor([[[[-0.9120,  0.6662,  0.2485, -0.5008],\n",
      "          [-0.6271, -0.7371, -0.2447, -0.2818]]],\n",
      "\n",
      "\n",
      "        [[[-1.5309, -0.0416,  0.1012, -0.7087],\n",
      "          [-0.4677, -1.0013,  0.8521,  0.9323]]]])\n",
      "torch.Size([2, 1, 2, 4])\n",
      "tensor([[[[ 8.7961e-02,  1.6662e+00,  1.2485e+00,  4.9923e-01],\n",
      "          [ 3.7292e-01,  2.6291e-01,  7.5527e-01,  7.1815e-01]],\n",
      "\n",
      "         [[ 8.7961e-02,  1.6662e+00,  1.2485e+00,  4.9923e-01],\n",
      "          [ 3.7292e-01,  2.6291e-01,  7.5527e-01,  7.1815e-01]]],\n",
      "\n",
      "\n",
      "        [[[-5.3094e-01,  9.5844e-01,  1.1012e+00,  2.9128e-01],\n",
      "          [ 5.3225e-01, -1.3115e-03,  1.8521e+00,  1.9323e+00]],\n",
      "\n",
      "         [[-5.3094e-01,  9.5844e-01,  1.1012e+00,  2.9128e-01],\n",
      "          [ 5.3225e-01, -1.3115e-03,  1.8521e+00,  1.9323e+00]]]])\n",
      "torch.Size([2, 2, 2, 4])\n",
      "tensor([[[[ 8.7961e-02,  1.6662e+00,  1.2485e+00,  4.9923e-01],\n",
      "          [ 3.7292e-01,  2.6291e-01,  7.5527e-01,  7.1815e-01]]],\n",
      "\n",
      "\n",
      "        [[[-5.3094e-01,  9.5844e-01,  1.1012e+00,  2.9128e-01],\n",
      "          [ 5.3225e-01, -1.3115e-03,  1.8521e+00,  1.9323e+00]]]]) torch.Size([2, 1, 2, 4])\n"
     ]
    }
   ],
   "source": [
    "m = 2\n",
    "r = 2\n",
    "\n",
    "a = torch.ones([m,r,4])\n",
    "a = a.unsqueeze(-2)\n",
    "print(a)\n",
    "print(a.shape)\n",
    "\n",
    "b = torch.randn([m,r,4])\n",
    "b = b.unsqueeze(-3)\n",
    "print(b)\n",
    "print(b.shape)\n",
    "\n",
    "c = a+b\n",
    "print(c)\n",
    "print(c.shape)\n",
    "\n",
    "d = c.narrow(-3,0,c.size(-3)-1)\n",
    "print(d,d.shape)\n"
   ]
  },
  {
   "cell_type": "code",
   "execution_count": 6,
   "metadata": {},
   "outputs": [
    {
     "name": "stdout",
     "output_type": "stream",
     "text": [
      "tensor([[[ 2,  5, 10, 10],\n",
      "         [ 8,  3,  8, 15]],\n",
      "\n",
      "        [[ 7,  2,  8,  4],\n",
      "         [13,  0,  6,  9]]])\n"
     ]
    }
   ],
   "source": [
    "a = [1,3,5,7]\n",
    "b = [6,0,3,1]\n",
    "c = [1,2,5,3]\n",
    "d = [7,0,3,8]\n",
    "\n",
    "x = torch.tensor([[a],[b]])\n",
    "y = torch.tensor([[c,d]])\n",
    "z = x+y\n",
    "print(z)"
   ]
  },
  {
   "cell_type": "code",
   "execution_count": 7,
   "metadata": {},
   "outputs": [
    {
     "name": "stdout",
     "output_type": "stream",
     "text": [
      "tensor([[2, 3, 4],\n",
      "        [3, 4, 5]])\n"
     ]
    }
   ],
   "source": [
    "x = torch.tensor([1,2,3])\n",
    "y = torch.tensor([[1,1,1],[2,2,2]])\n",
    "print(x+y)"
   ]
  },
  {
   "cell_type": "markdown",
   "metadata": {},
   "source": [
    "# token to token matrix"
   ]
  },
  {
   "cell_type": "code",
   "execution_count": 10,
   "metadata": {},
   "outputs": [
    {
     "data": {
      "text/plain": [
       "tensor([[ 6,  8],\n",
       "        [10, 12]])"
      ]
     },
     "execution_count": 10,
     "metadata": {},
     "output_type": "execute_result"
    }
   ],
   "source": [
    "x= torch.tensor([[1,2],[3,4]])\n",
    "b = torch.tensor([[5,6],[7,8]])\n",
    "\n",
    "y = b+x\n",
    "y"
   ]
  },
  {
   "cell_type": "markdown",
   "metadata": {},
   "source": [
    "# Padding code"
   ]
  },
  {
   "cell_type": "code",
   "execution_count": 7,
   "metadata": {},
   "outputs": [
    {
     "name": "stdout",
     "output_type": "stream",
     "text": [
      "5 n%r\n",
      "2 padlength\n",
      "tensor([[[-0.6781, -0.8046,  0.4035, -2.0628],\n",
      "         [-1.1711, -0.7755, -0.1900,  0.5988],\n",
      "         [ 0.5550,  0.4338,  0.3972, -1.0895],\n",
      "         [ 0.6061,  0.7963,  0.6307, -1.2075],\n",
      "         [-2.5939,  0.7333,  0.2214, -0.8371],\n",
      "         [ 0.4096, -0.3041,  0.1892,  0.9477],\n",
      "         [-0.0943, -1.0447,  2.9666, -0.5854],\n",
      "         [ 0.7739,  0.8078, -1.7294,  0.3237],\n",
      "         [-0.2387,  0.9505, -0.0283, -1.5386],\n",
      "         [-1.0475,  1.9504, -1.9491, -1.2906],\n",
      "         [-0.3331,  0.9963, -0.7191,  0.9172],\n",
      "         [ 0.1990, -0.7253, -0.7015,  0.2782]]]) torch.Size([1, 12, 4])\n",
      "tensor([[[0., 0., 0., 0.],\n",
      "         [0., 0., 0., 0.]]]) torch.Size([1, 2, 4])\n",
      "tensor([[[[-0.6781, -0.8046,  0.4035, -2.0628],\n",
      "          [-1.1711, -0.7755, -0.1900,  0.5988],\n",
      "          [ 0.5550,  0.4338,  0.3972, -1.0895],\n",
      "          [ 0.6061,  0.7963,  0.6307, -1.2075],\n",
      "          [-2.5939,  0.7333,  0.2214, -0.8371],\n",
      "          [ 0.4096, -0.3041,  0.1892,  0.9477],\n",
      "          [-0.0943, -1.0447,  2.9666, -0.5854]],\n",
      "\n",
      "         [[ 0.7739,  0.8078, -1.7294,  0.3237],\n",
      "          [-0.2387,  0.9505, -0.0283, -1.5386],\n",
      "          [-1.0475,  1.9504, -1.9491, -1.2906],\n",
      "          [-0.3331,  0.9963, -0.7191,  0.9172],\n",
      "          [ 0.1990, -0.7253, -0.7015,  0.2782],\n",
      "          [ 0.0000,  0.0000,  0.0000,  0.0000],\n",
      "          [ 0.0000,  0.0000,  0.0000,  0.0000]]]]) torch.Size([1, 2, 7, 4])\n"
     ]
    }
   ],
   "source": [
    "import torch\n",
    "import torch.nn as nn\n",
    "import torch.nn.functional as F\n",
    "from torch.autograd import Variable\n",
    "\n",
    "# (batch, (block_num), seq_len, 1, word_dim)\n",
    "\n",
    "#each block has 7\n",
    "r = 7 \n",
    "# sequence length is 12\n",
    "n = 12 \n",
    "pad_len = (r - n % r) % r\n",
    "print(n%r,'n%r')\n",
    "print(pad_len,'padlength')\n",
    "\n",
    "# x: (batch, seq_len, word_dim)\n",
    "x = torch.randn((1,n,4))\n",
    "print(x,x.size())\n",
    "\n",
    "pad = Variable( torch.zeros(x.size(0), pad_len, x.size(2)) )\n",
    "print(pad,pad.shape)\n",
    "            # pagging at sequence length\n",
    "x = torch.cat([x,pad] , dim=1)\n",
    "x = torch.stack([x.narrow(1, i, r) for i in range(0, x.size(1), r)], dim=1)\n",
    "print(x,x.shape)"
   ]
  },
  {
   "cell_type": "markdown",
   "metadata": {},
   "source": [
    "# 1-G"
   ]
  },
  {
   "cell_type": "code",
   "execution_count": 8,
   "metadata": {},
   "outputs": [
    {
     "name": "stdout",
     "output_type": "stream",
     "text": [
      "tensor([[-1.1003, -0.3859,  1.1896],\n",
      "        [ 0.7929,  1.3297,  1.2588],\n",
      "        [-0.7200, -0.7254, -0.7781]])\n",
      "tensor([[ 2.1003,  1.3859, -0.1896],\n",
      "        [ 0.2071, -0.3297, -0.2588],\n",
      "        [ 1.7200,  1.7254,  1.7781]])\n"
     ]
    }
   ],
   "source": [
    "import torch\n",
    "x = torch.randn((3,3))\n",
    "print(x)\n",
    "print(1-x)"
   ]
  },
  {
   "cell_type": "code",
   "execution_count": 10,
   "metadata": {},
   "outputs": [
    {
     "name": "stdout",
     "output_type": "stream",
     "text": [
      "tensor([[-0.5192, -0.2507,  1.2637],\n",
      "        [ 1.2450, -0.9896,  1.4295],\n",
      "        [ 1.2420,  1.8667,  0.8840]]) torch.Size([3, 3])\n",
      "tensor([[-0.2739, -0.4443, -0.1571],\n",
      "        [ 0.8800, -0.3953,  0.3116],\n",
      "        [-1.1060,  1.2349, -0.9325]]) torch.Size([3, 3])\n",
      "tensor([[[-0.5192, -0.2507,  1.2637],\n",
      "         [-0.2739, -0.4443, -0.1571]],\n",
      "\n",
      "        [[ 1.2450, -0.9896,  1.4295],\n",
      "         [ 0.8800, -0.3953,  0.3116]],\n",
      "\n",
      "        [[ 1.2420,  1.8667,  0.8840],\n",
      "         [-1.1060,  1.2349, -0.9325]]]) torch.Size([3, 2, 3])\n"
     ]
    }
   ],
   "source": [
    "x = torch.randn((3,3))\n",
    "print(x,x.shape)\n",
    "y = torch.randn((3,3))\n",
    "print(y,y.shape)\n",
    "z = torch.stack([x,y],dim=1)\n",
    "print(z,z.shape)"
   ]
  },
  {
   "cell_type": "markdown",
   "metadata": {},
   "source": [
    "# test view"
   ]
  },
  {
   "cell_type": "code",
   "execution_count": 18,
   "metadata": {},
   "outputs": [
    {
     "name": "stdout",
     "output_type": "stream",
     "text": [
      "tensor([[[ 0.3738,  0.9322],\n",
      "         [ 1.0129,  0.5007],\n",
      "         [-1.1390, -1.4260]],\n",
      "\n",
      "        [[ 0.1444, -0.0541],\n",
      "         [-0.6387, -0.5478],\n",
      "         [-0.3588,  0.7729]],\n",
      "\n",
      "        [[ 0.7434, -2.1836],\n",
      "         [-0.3162,  1.6284],\n",
      "         [-0.4825, -1.0646]],\n",
      "\n",
      "        [[-0.8810,  1.5524],\n",
      "         [-0.3042,  0.3273],\n",
      "         [ 0.9063,  0.3734]]])\n"
     ]
    },
    {
     "data": {
      "text/plain": [
       "tensor([[[ 0.3738,  0.9322],\n",
       "         [ 1.0129,  0.5007],\n",
       "         [-1.1390, -1.4260]],\n",
       "\n",
       "        [[ 0.1444, -0.0541],\n",
       "         [-0.6387, -0.5478],\n",
       "         [-0.3588,  0.7729]],\n",
       "\n",
       "        [[ 0.7434, -2.1836],\n",
       "         [-0.3162,  1.6284],\n",
       "         [-0.4825, -1.0646]],\n",
       "\n",
       "        [[-0.8810,  1.5524],\n",
       "         [-0.3042,  0.3273],\n",
       "         [ 0.9063,  0.3734]]])"
      ]
     },
     "execution_count": 18,
     "metadata": {},
     "output_type": "execute_result"
    }
   ],
   "source": [
    "import torch\n",
    "x = torch.randn(4,3,2)\n",
    "print(x)\n",
    "y = x.view(x.size(0),-1,x.size(-1)).narrow(1,0,3)\n",
    "y"
   ]
  },
  {
   "cell_type": "code",
   "execution_count": null,
   "metadata": {},
   "outputs": [],
   "source": []
  }
 ],
 "metadata": {
  "kernelspec": {
   "display_name": "Python 3",
   "language": "python",
   "name": "python3"
  },
  "language_info": {
   "codemirror_mode": {
    "name": "ipython",
    "version": 3
   },
   "file_extension": ".py",
   "mimetype": "text/x-python",
   "name": "python",
   "nbconvert_exporter": "python",
   "pygments_lexer": "ipython3",
   "version": "3.7.3"
  }
 },
 "nbformat": 4,
 "nbformat_minor": 2
}
