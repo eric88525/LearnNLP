{
 "cells": [
  {
   "cell_type": "code",
   "execution_count": 1,
   "metadata": {},
   "outputs": [
    {
     "data": {
      "text/plain": [
       "tensor([[1.0102e-38, 1.0561e-38, 1.0102e-38],\n",
       "        [1.0745e-38, 9.9184e-39, 9.0000e-39],\n",
       "        [1.0561e-38, 1.0653e-38, 4.1327e-39],\n",
       "        [8.9082e-39, 9.8265e-39, 9.4592e-39],\n",
       "        [1.0561e-38, 1.0653e-38, 1.0469e-38]])"
      ]
     },
     "execution_count": 1,
     "metadata": {},
     "output_type": "execute_result"
    }
   ],
   "source": [
    "import torch\n",
    "torch.empty(5,3)"
   ]
  },
  {
   "cell_type": "code",
   "execution_count": 2,
   "metadata": {},
   "outputs": [
    {
     "data": {
      "text/plain": [
       "tensor([[0.9475, 0.1528, 0.5060],\n",
       "        [0.8430, 0.4326, 0.8979],\n",
       "        [0.5237, 0.3250, 0.5427],\n",
       "        [0.8911, 0.3885, 0.5260],\n",
       "        [0.7996, 0.5652, 0.9372]])"
      ]
     },
     "execution_count": 2,
     "metadata": {},
     "output_type": "execute_result"
    }
   ],
   "source": [
    "torch.rand(5,3)"
   ]
  },
  {
   "cell_type": "code",
   "execution_count": 3,
   "metadata": {},
   "outputs": [
    {
     "data": {
      "text/plain": [
       "tensor([[0, 0, 0],\n",
       "        [0, 0, 0],\n",
       "        [0, 0, 0],\n",
       "        [0, 0, 0],\n",
       "        [0, 0, 0]])"
      ]
     },
     "execution_count": 3,
     "metadata": {},
     "output_type": "execute_result"
    }
   ],
   "source": [
    "torch.zeros(5,3,dtype=torch.long)"
   ]
  },
  {
   "cell_type": "code",
   "execution_count": 4,
   "metadata": {},
   "outputs": [
    {
     "name": "stdout",
     "output_type": "stream",
     "text": [
      "tensor([ 5.0000,  3.0000, 99.0000,  0.5000])\n"
     ]
    }
   ],
   "source": [
    "x = torch.tensor([5,3,99,0.5])\n",
    "print(x)"
   ]
  },
  {
   "cell_type": "code",
   "execution_count": 5,
   "metadata": {},
   "outputs": [
    {
     "name": "stdout",
     "output_type": "stream",
     "text": [
      "tensor([[1., 1., 1.],\n",
      "        [1., 1., 1.],\n",
      "        [1., 1., 1.],\n",
      "        [1., 1., 1.],\n",
      "        [1., 1., 1.]], dtype=torch.float64)\n"
     ]
    }
   ],
   "source": [
    "x = x.new_ones(5,3,dtype=torch.double)\n",
    "print(x)"
   ]
  },
  {
   "cell_type": "code",
   "execution_count": 6,
   "metadata": {},
   "outputs": [
    {
     "name": "stdout",
     "output_type": "stream",
     "text": [
      "tensor([[-2.3015, -0.6637, -1.4250],\n",
      "        [-0.6165, -1.0941,  0.7396],\n",
      "        [-0.8865, -1.8372,  0.8401],\n",
      "        [-1.2125,  0.5545,  1.4921],\n",
      "        [-0.5670, -1.0067,  0.5093]], dtype=torch.float64)\n"
     ]
    }
   ],
   "source": [
    "y = torch.randn_like(x,dtype=torch.double)\n",
    "print(y)"
   ]
  },
  {
   "cell_type": "code",
   "execution_count": 7,
   "metadata": {},
   "outputs": [
    {
     "name": "stdout",
     "output_type": "stream",
     "text": [
      "tensor([[-1.3015,  0.3363, -0.4250],\n",
      "        [ 0.3835, -0.0941,  1.7396],\n",
      "        [ 0.1135, -0.8372,  1.8401],\n",
      "        [-0.2125,  1.5545,  2.4921],\n",
      "        [ 0.4330, -0.0067,  1.5093]], dtype=torch.float64)\n",
      "tensor([[-1.3015,  0.3363, -0.4250],\n",
      "        [ 0.3835, -0.0941,  1.7396],\n",
      "        [ 0.1135, -0.8372,  1.8401],\n",
      "        [-0.2125,  1.5545,  2.4921],\n",
      "        [ 0.4330, -0.0067,  1.5093]], dtype=torch.float64)\n"
     ]
    }
   ],
   "source": [
    "print(x+y)\n",
    "print(torch.add(x,y))"
   ]
  },
  {
   "cell_type": "code",
   "execution_count": 8,
   "metadata": {},
   "outputs": [
    {
     "name": "stdout",
     "output_type": "stream",
     "text": [
      "tensor([[-2.3015, -0.6637, -1.4250],\n",
      "        [-0.6165, -1.0941,  0.7396],\n",
      "        [-0.8865, -1.8372,  0.8401],\n",
      "        [-1.2125,  0.5545,  1.4921],\n",
      "        [-0.5670, -1.0067,  0.5093]], dtype=torch.float64)\n"
     ]
    }
   ],
   "source": [
    "y.add(x)\n",
    "print(y)"
   ]
  },
  {
   "cell_type": "code",
   "execution_count": 9,
   "metadata": {},
   "outputs": [
    {
     "name": "stdout",
     "output_type": "stream",
     "text": [
      "tensor([[-1.3015,  0.3363, -0.4250],\n",
      "        [ 0.3835, -0.0941,  1.7396],\n",
      "        [ 0.1135, -0.8372,  1.8401],\n",
      "        [-0.2125,  1.5545,  2.4921],\n",
      "        [ 0.4330, -0.0067,  1.5093]], dtype=torch.float64)\n"
     ]
    }
   ],
   "source": [
    "y.add_(x)\n",
    "print(y)"
   ]
  },
  {
   "cell_type": "code",
   "execution_count": 10,
   "metadata": {},
   "outputs": [
    {
     "name": "stdout",
     "output_type": "stream",
     "text": [
      "tensor([ 0.3363, -0.0941, -0.8372,  1.5545, -0.0067], dtype=torch.float64)\n"
     ]
    }
   ],
   "source": [
    "print(y[:,1])"
   ]
  },
  {
   "cell_type": "code",
   "execution_count": 11,
   "metadata": {},
   "outputs": [
    {
     "name": "stdout",
     "output_type": "stream",
     "text": [
      "tensor([[5, 6, 1],\n",
      "        [1, 2, 1]])\n"
     ]
    }
   ],
   "source": [
    "x = torch.tensor([[5,3,1],[1,1,1]])\n",
    "y = torch.tensor([1,2,1])\n",
    "z = x*y\n",
    "print(x*y)"
   ]
  },
  {
   "cell_type": "code",
   "execution_count": 12,
   "metadata": {},
   "outputs": [
    {
     "name": "stdout",
     "output_type": "stream",
     "text": [
      "tensor([[5, 6, 1],\n",
      "        [1, 2, 1]])\n"
     ]
    },
    {
     "data": {
      "text/plain": [
       "tensor([[5],\n",
       "        [6],\n",
       "        [1],\n",
       "        [1],\n",
       "        [2],\n",
       "        [1]])"
      ]
     },
     "execution_count": 12,
     "metadata": {},
     "output_type": "execute_result"
    }
   ],
   "source": [
    "print(z)\n",
    "# -1為自動調整 \n",
    "z.view(-1,1)"
   ]
  },
  {
   "cell_type": "code",
   "execution_count": 13,
   "metadata": {},
   "outputs": [
    {
     "data": {
      "text/plain": [
       "5"
      ]
     },
     "execution_count": 13,
     "metadata": {},
     "output_type": "execute_result"
    }
   ],
   "source": [
    "a = torch.tensor([5])\n",
    "a.item()"
   ]
  },
  {
   "cell_type": "code",
   "execution_count": 14,
   "metadata": {},
   "outputs": [
    {
     "name": "stdout",
     "output_type": "stream",
     "text": [
      "tensor([[5, 6, 1],\n",
      "        [1, 2, 1]])\n"
     ]
    }
   ],
   "source": [
    "print(z)\n"
   ]
  },
  {
   "cell_type": "code",
   "execution_count": 15,
   "metadata": {},
   "outputs": [
    {
     "name": "stdout",
     "output_type": "stream",
     "text": [
      "<class 'numpy.ndarray'>\n"
     ]
    }
   ],
   "source": [
    "import numpy as np\n",
    "print(type(z.numpy()))"
   ]
  },
  {
   "cell_type": "code",
   "execution_count": 16,
   "metadata": {},
   "outputs": [
    {
     "data": {
      "text/plain": [
       "tensor([5, 3], dtype=torch.int32)"
      ]
     },
     "execution_count": 16,
     "metadata": {},
     "output_type": "execute_result"
    }
   ],
   "source": [
    "a = np.array([5,3])\n",
    "a\n",
    "t = torch.from_numpy(a)\n",
    "t"
   ]
  },
  {
   "cell_type": "code",
   "execution_count": 17,
   "metadata": {},
   "outputs": [
    {
     "name": "stdout",
     "output_type": "stream",
     "text": [
      "tensor([[6, 4, 2],\n",
      "        [2, 2, 2]], device='cuda:0')\n",
      "tensor([[6., 4., 2.],\n",
      "        [2., 2., 2.]], dtype=torch.float64)\n"
     ]
    }
   ],
   "source": [
    "if torch.cuda.is_available():\n",
    "    device = torch.device(\"cuda\")          # a CUDA device object\n",
    "    y = torch.ones_like(x, device=device)  # directly create a tensor on GPU\n",
    "    x = x.to(device)                       # or just use strings ``.to(\"cuda\")``\n",
    "    z = x + y\n",
    "    print(z)\n",
    "    print(z.to(\"cpu\", torch.double))       # ``.to`` can also change dtype together!"
   ]
  },
  {
   "cell_type": "code",
   "execution_count": 18,
   "metadata": {},
   "outputs": [
    {
     "name": "stdout",
     "output_type": "stream",
     "text": [
      "tensor([[1, 2, 3],\n",
      "        [4, 5, 6],\n",
      "        [7, 8, 9]])\n"
     ]
    }
   ],
   "source": [
    "# * 是entry wise multiplication\n",
    "# mm() 是矩陣乘法\n",
    "\n",
    "\n",
    "import torch\n",
    "x = torch.tensor([[1,2,3],[4,5,6],[7,8,9]])\n",
    "y = torch.tensor([[2,2,2],[3,3,3],[4,4,4]])\n",
    "z = torch.tensor([[1,1,1],[1,1,1],[1,1,1]])\n",
    "print(x)"
   ]
  },
  {
   "cell_type": "code",
   "execution_count": 19,
   "metadata": {},
   "outputs": [
    {
     "name": "stdout",
     "output_type": "stream",
     "text": [
      "tensor([[1, 4, 7],\n",
      "        [2, 5, 8],\n",
      "        [3, 6, 9]])\n"
     ]
    }
   ],
   "source": [
    "print(x.t())"
   ]
  },
  {
   "cell_type": "code",
   "execution_count": 20,
   "metadata": {},
   "outputs": [
    {
     "name": "stdout",
     "output_type": "stream",
     "text": [
      "tensor([[2, 2, 2],\n",
      "        [3, 3, 3],\n",
      "        [4, 4, 4]])\n"
     ]
    }
   ],
   "source": [
    "print(y)"
   ]
  },
  {
   "cell_type": "code",
   "execution_count": 21,
   "metadata": {},
   "outputs": [
    {
     "name": "stdout",
     "output_type": "stream",
     "text": [
      "tensor([[ 2,  4,  6],\n",
      "        [12, 15, 18],\n",
      "        [28, 32, 36]])\n",
      "tensor([[2, 2, 2],\n",
      "        [3, 3, 3],\n",
      "        [4, 4, 4]])\n",
      "tensor([[24, 30, 36],\n",
      "        [36, 45, 54],\n",
      "        [48, 60, 72]])\n"
     ]
    }
   ],
   "source": [
    "print(y*x)\n",
    "print(y)\n",
    "print(y.mm(x))"
   ]
  },
  {
   "cell_type": "code",
   "execution_count": 22,
   "metadata": {},
   "outputs": [
    {
     "name": "stdout",
     "output_type": "stream",
     "text": [
      "tensor([[1, 2, 3],\n",
      "        [4, 5, 6],\n",
      "        [7, 8, 9]])\n"
     ]
    }
   ],
   "source": [
    "print(x*z)"
   ]
  },
  {
   "cell_type": "code",
   "execution_count": 23,
   "metadata": {},
   "outputs": [
    {
     "name": "stdout",
     "output_type": "stream",
     "text": [
      "tensor([[1, 2, 3],\n",
      "        [4, 5, 6],\n",
      "        [7, 8, 9]])\n",
      "tensor([[1, 1, 1],\n",
      "        [2, 2, 2],\n",
      "        [3, 3, 3]])\n",
      "tensor([[14, 14, 14],\n",
      "        [32, 32, 32],\n",
      "        [50, 50, 50]])\n"
     ]
    }
   ],
   "source": [
    "print(x)\n",
    "z = torch.tensor([1,1,1,2,2,2,3,3,3]).view(3,3)\n",
    "print(z)\n",
    "print(x.mm(z))\n"
   ]
  },
  {
   "cell_type": "code",
   "execution_count": 24,
   "metadata": {},
   "outputs": [
    {
     "data": {
      "text/plain": [
       "tensor([[ 1,  1,  1],\n",
       "        [-1, -1, -1],\n",
       "        [-1, -1, -1]])"
      ]
     },
     "execution_count": 24,
     "metadata": {},
     "output_type": "execute_result"
    }
   ],
   "source": [
    "x = x.mm(z)\n",
    "z[x>14]=-1\n",
    "z"
   ]
  },
  {
   "cell_type": "code",
   "execution_count": 25,
   "metadata": {},
   "outputs": [
    {
     "data": {
      "text/plain": [
       "tensor([[87, 87, 87],\n",
       "        [-1, -1, -1],\n",
       "        [-1, -1, -1]])"
      ]
     },
     "execution_count": 25,
     "metadata": {},
     "output_type": "execute_result"
    }
   ],
   "source": [
    "z[z>0]=87\n",
    "z"
   ]
  },
  {
   "cell_type": "code",
   "execution_count": 26,
   "metadata": {},
   "outputs": [
    {
     "name": "stdout",
     "output_type": "stream",
     "text": [
      "tensor([[-1.3425,  0.0321,  1.3856],\n",
      "        [-1.0324, -1.1790, -0.0083],\n",
      "        [-0.5454, -0.0872, -0.9173],\n",
      "        [ 1.4132,  0.9051,  0.5186]])\n",
      "tensor([[ 1.3794],\n",
      "        [ 1.3588],\n",
      "        [-0.7983]])\n"
     ]
    },
    {
     "data": {
      "text/plain": [
       "torch.Size([4, 1])"
      ]
     },
     "execution_count": 26,
     "metadata": {},
     "output_type": "execute_result"
    }
   ],
   "source": [
    "import torch\n",
    "dh = 4\n",
    "de = 3\n",
    "dq = 2\n",
    "\n",
    "w1 = torch.randn(dh,de)\n",
    "print(w1)\n",
    "w2 = torch.randn(dh,dq)\n",
    "xi = torch.randn(de,1)\n",
    "print(xi)\n",
    "q = torch.empty(dq,1)\n",
    "t1 = w1.mm(xi)\n",
    "t1.size()\n"
   ]
  },
  {
   "cell_type": "code",
   "execution_count": 27,
   "metadata": {},
   "outputs": [
    {
     "data": {
      "text/plain": [
       "tensor([[ 2.5732],\n",
       "        [-0.7404],\n",
       "        [-1.1165],\n",
       "        [ 2.4615]])"
      ]
     },
     "execution_count": 27,
     "metadata": {},
     "output_type": "execute_result"
    }
   ],
   "source": [
    "xx = torch.randn(dh,1)\n",
    "xx"
   ]
  },
  {
   "cell_type": "code",
   "execution_count": 28,
   "metadata": {},
   "outputs": [
    {
     "name": "stdout",
     "output_type": "stream",
     "text": [
      "tensor([[-3.4546,  0.0825,  3.5654],\n",
      "        [ 0.7644,  0.8730,  0.0061],\n",
      "        [ 0.6089,  0.0974,  1.0241],\n",
      "        [ 3.4785,  2.2280,  1.2766]])\n"
     ]
    }
   ],
   "source": [
    "print(w1*xx)"
   ]
  },
  {
   "cell_type": "code",
   "execution_count": 30,
   "metadata": {},
   "outputs": [
    {
     "data": {
      "text/plain": [
       "tensor([-1.1380,  0.6283, -0.4071,  2.4766, -1.3782,  2.7564,  0.5291,  1.1473,\n",
       "        -0.0889,  1.4081,  0.1812, -0.1170,  0.3756,  0.7058, -1.1269, -1.3371,\n",
       "         0.3343,  0.6020,  0.6805,  0.5914,  1.4914, -0.8243, -0.5879,  0.1901,\n",
       "         1.2892,  0.8645, -1.7776, -0.3855,  0.9710,  0.6692, -1.1836,  0.2624,\n",
       "         1.7526,  0.9901,  1.1166, -1.6275,  0.1099,  0.4989, -0.0819, -0.6948,\n",
       "         1.3842,  0.8696,  0.4410,  0.0683,  0.4758,  0.6024, -0.0425,  0.9112,\n",
       "         0.5751,  1.0956])"
      ]
     },
     "execution_count": 30,
     "metadata": {},
     "output_type": "execute_result"
    }
   ],
   "source": [
    "\n",
    "de = 5\n",
    "r = 4\n",
    "torch.randn(50)"
   ]
  },
  {
   "cell_type": "markdown",
   "metadata": {},
   "source": [
    "# Softmax 練習"
   ]
  },
  {
   "cell_type": "code",
   "execution_count": 5,
   "metadata": {},
   "outputs": [
    {
     "name": "stdout",
     "output_type": "stream",
     "text": [
      "tensor([[5., 8.],\n",
      "        [5., 5.]], dtype=torch.float64)\n",
      "tensor([[0.5000, 0.9526],\n",
      "        [0.5000, 0.0474]], dtype=torch.float64)\n",
      "tensor([[0.0474, 0.9526],\n",
      "        [0.5000, 0.5000]], dtype=torch.float64)\n",
      "tensor([[0.5000, 0.9526],\n",
      "        [0.5000, 0.0474]], dtype=torch.float64)\n"
     ]
    }
   ],
   "source": [
    "import torch.nn as nn\n",
    "import torch\n",
    "x = torch.tensor([[5,8],[5,5]],dtype=float)\n",
    "print(x)\n",
    "# 對row 和 col 做 softmax\n",
    "s0 = nn.Softmax(dim=0)\n",
    "s1 = nn.Softmax(dim=1)\n",
    "ss = nn.Softmax(dim=-2)\n",
    "print(s0(x))\n",
    "print(s1(x))\n",
    "print(ss(x))"
   ]
  },
  {
   "cell_type": "code",
   "execution_count": null,
   "metadata": {},
   "outputs": [],
   "source": []
  }
 ],
 "metadata": {
  "kernelspec": {
   "display_name": "Python 3",
   "language": "python",
   "name": "python3"
  },
  "language_info": {
   "codemirror_mode": {
    "name": "ipython",
    "version": 3
   },
   "file_extension": ".py",
   "mimetype": "text/x-python",
   "name": "python",
   "nbconvert_exporter": "python",
   "pygments_lexer": "ipython3",
   "version": "3.7.3"
  }
 },
 "nbformat": 4,
 "nbformat_minor": 2
}
