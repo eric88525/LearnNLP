{
 "cells": [
  {
   "cell_type": "code",
   "execution_count": 1,
   "metadata": {},
   "outputs": [],
   "source": [
    "import torch\n",
    "import numpy as np"
   ]
  },
  {
   "cell_type": "markdown",
   "metadata": {},
   "source": [
    "https://zhuanlan.zhihu.com/p/31494491"
   ]
  },
  {
   "cell_type": "code",
   "execution_count": 2,
   "metadata": {},
   "outputs": [],
   "source": [
    "# 描述用\n",
    "def describe(x):\n",
    "    print('>>Type: {}'.format(x.type()))\n",
    "    print('>>Shape/size: {}'.format(x.shape))\n",
    "    print('>>Values: \\n{}'.format(x))"
   ]
  },
  {
   "cell_type": "code",
   "execution_count": 3,
   "metadata": {},
   "outputs": [
    {
     "name": "stdout",
     "output_type": "stream",
     "text": [
      ">>Type: torch.FloatTensor\n",
      ">>Shape/size: torch.Size([2, 3])\n",
      ">>Values: \n",
      "tensor([[0., 0., 0.],\n",
      "        [0., 0., 0.]])\n"
     ]
    }
   ],
   "source": [
    "describe(torch.Tensor(2,3))"
   ]
  },
  {
   "cell_type": "code",
   "execution_count": 4,
   "metadata": {},
   "outputs": [
    {
     "name": "stdout",
     "output_type": "stream",
     "text": [
      ">>Type: torch.FloatTensor\n",
      ">>Shape/size: torch.Size([2, 3])\n",
      ">>Values: \n",
      "tensor([[-0.4736, -1.1664,  1.9390],\n",
      "        [ 1.2380,  0.4594, -0.9827]])\n",
      ">>Type: torch.FloatTensor\n",
      ">>Shape/size: torch.Size([2, 3])\n",
      ">>Values: \n",
      "tensor([[-0.9471, -2.3328,  3.8779],\n",
      "        [ 2.4761,  0.9188, -1.9654]])\n"
     ]
    }
   ],
   "source": [
    "x = torch.randn(2,3)\n",
    "describe(x)\n",
    "describe(x+x)"
   ]
  },
  {
   "cell_type": "code",
   "execution_count": 10,
   "metadata": {},
   "outputs": [
    {
     "name": "stdout",
     "output_type": "stream",
     "text": [
      ">>Type: torch.FloatTensor\n",
      ">>Shape/size: torch.Size([2, 3])\n",
      ">>Values: \n",
      "tensor([[0.6745, 0.2194, 0.3384],\n",
      "        [0.9385, 0.3410, 0.4028]])\n",
      ">>Type: torch.FloatTensor\n",
      ">>Shape/size: torch.Size([2, 3])\n",
      ">>Values: \n",
      "tensor([[ 0.0725, -0.0639,  1.0338],\n",
      "        [-0.9032,  0.1634,  0.0355]])\n"
     ]
    }
   ],
   "source": [
    "# Returns a tensor filled with random numbers from a uniform distribution on the interval [0, 1)[0,1)\n",
    "# 均勻分布:[0,1)\n",
    "x = torch.rand(2,3)\n",
    "describe(x)\n",
    "# Returns a tensor filled with random numbers from a normal distribution with mean 0 and variance 1 (also called the standard normal distribution)\n",
    "# 常態分佈 \n",
    "x = torch.randn(2,3)\n",
    "describe(x)"
   ]
  },
  {
   "cell_type": "code",
   "execution_count": 11,
   "metadata": {},
   "outputs": [
    {
     "name": "stdout",
     "output_type": "stream",
     "text": [
      ">>Type: torch.FloatTensor\n",
      ">>Shape/size: torch.Size([2, 3])\n",
      ">>Values: \n",
      "tensor([[0., 0., 0.],\n",
      "        [0., 0., 0.]])\n",
      ">>Type: torch.FloatTensor\n",
      ">>Shape/size: torch.Size([2, 3])\n",
      ">>Values: \n",
      "tensor([[5., 5., 5.],\n",
      "        [5., 5., 5.]])\n"
     ]
    }
   ],
   "source": [
    "describe(torch.zeros(2,3))\n",
    "describe(x.fill_(5))"
   ]
  },
  {
   "cell_type": "code",
   "execution_count": 12,
   "metadata": {},
   "outputs": [
    {
     "name": "stdout",
     "output_type": "stream",
     "text": [
      ">>Type: torch.DoubleTensor\n",
      ">>Shape/size: torch.Size([2, 3])\n",
      ">>Values: \n",
      "tensor([[0.5063, 0.2961, 0.1960],\n",
      "        [0.7862, 0.4990, 0.6658]], dtype=torch.float64)\n"
     ]
    }
   ],
   "source": [
    "npy = np.random.rand(2,3)\n",
    "describe(torch.from_numpy(npy))"
   ]
  },
  {
   "cell_type": "markdown",
   "metadata": {},
   "source": [
    "# 轉換型態"
   ]
  },
  {
   "cell_type": "code",
   "execution_count": 13,
   "metadata": {},
   "outputs": [
    {
     "name": "stdout",
     "output_type": "stream",
     "text": [
      ">>Type: torch.FloatTensor\n",
      ">>Shape/size: torch.Size([2, 3])\n",
      ">>Values: \n",
      "tensor([[0., 0., 0.],\n",
      "        [0., 0., 0.]])\n",
      ">>Type: torch.LongTensor\n",
      ">>Shape/size: torch.Size([2, 3])\n",
      ">>Values: \n",
      "tensor([[0, 0, 0],\n",
      "        [0, 0, 0]])\n",
      ">>Type: torch.FloatTensor\n",
      ">>Shape/size: torch.Size([2, 3])\n",
      ">>Values: \n",
      "tensor([[0., 0., 0.],\n",
      "        [0., 0., 0.]])\n",
      ">>Type: torch.LongTensor\n",
      ">>Shape/size: torch.Size([2, 3])\n",
      ">>Values: \n",
      "tensor([[0, 0, 0],\n",
      "        [0, 0, 0]])\n"
     ]
    }
   ],
   "source": [
    "x = torch.FloatTensor(2,3)\n",
    "describe(x)\n",
    "x = torch.LongTensor(2,3)\n",
    "describe(x)\n",
    "x = x.float()\n",
    "describe(x)\n",
    "x = x.long()\n",
    "describe(x)"
   ]
  },
  {
   "cell_type": "markdown",
   "metadata": {},
   "source": [
    "# Dimention"
   ]
  },
  {
   "cell_type": "markdown",
   "metadata": {},
   "source": [
    "https://towardsdatascience.com/understanding-dimensions-in-pytorch-6edf9972d3be"
   ]
  },
  {
   "cell_type": "code",
   "execution_count": 9,
   "metadata": {},
   "outputs": [
    {
     "name": "stdout",
     "output_type": "stream",
     "text": [
      ">>Type: torch.LongTensor\n",
      ">>Shape/size: torch.Size([12])\n",
      ">>Values: \n",
      "tensor([ 0,  1,  2,  3,  4,  5,  6,  7,  8,  9, 10, 11])\n",
      ">>Type: torch.LongTensor\n",
      ">>Shape/size: torch.Size([3, 4])\n",
      ">>Values: \n",
      "tensor([[ 0,  1,  2,  3],\n",
      "        [ 4,  5,  6,  7],\n",
      "        [ 8,  9, 10, 11]])\n"
     ]
    }
   ],
   "source": [
    "# 1 dim\n",
    "x = torch.arange(12)\n",
    "describe(x)\n",
    "# change dim\n",
    "x=x.view(3,4)\n",
    "describe(x)"
   ]
  },
  {
   "cell_type": "code",
   "execution_count": 10,
   "metadata": {},
   "outputs": [
    {
     "name": "stdout",
     "output_type": "stream",
     "text": [
      ">>Type: torch.LongTensor\n",
      ">>Shape/size: torch.Size([3, 1])\n",
      ">>Values: \n",
      "tensor([[ 6],\n",
      "        [22],\n",
      "        [38]])\n"
     ]
    }
   ],
   "source": [
    "describe(torch.sum(x,1,True))"
   ]
  },
  {
   "cell_type": "code",
   "execution_count": 11,
   "metadata": {},
   "outputs": [
    {
     "name": "stdout",
     "output_type": "stream",
     "text": [
      ">>Type: torch.LongTensor\n",
      ">>Shape/size: torch.Size([1, 4])\n",
      ">>Values: \n",
      "tensor([[12, 15, 18, 21]])\n"
     ]
    }
   ],
   "source": [
    "describe(torch.sum(x,0,True))"
   ]
  },
  {
   "cell_type": "code",
   "execution_count": 12,
   "metadata": {},
   "outputs": [
    {
     "name": "stdout",
     "output_type": "stream",
     "text": [
      ">>Type: torch.LongTensor\n",
      ">>Shape/size: torch.Size([4, 3])\n",
      ">>Values: \n",
      "tensor([[ 0,  4,  8],\n",
      "        [ 1,  5,  9],\n",
      "        [ 2,  6, 10],\n",
      "        [ 3,  7, 11]])\n"
     ]
    }
   ],
   "source": [
    "describe(torch.transpose(x,0,1))"
   ]
  },
  {
   "cell_type": "code",
   "execution_count": 13,
   "metadata": {},
   "outputs": [
    {
     "name": "stdout",
     "output_type": "stream",
     "text": [
      "tensor([[0, 1, 2],\n",
      "        [3, 4, 5]])\n",
      ">>Type: torch.LongTensor\n",
      ">>Shape/size: torch.Size([2, 2])\n",
      ">>Values: \n",
      "tensor([[1, 0],\n",
      "        [4, 3]])\n"
     ]
    }
   ],
   "source": [
    "x = torch.arange(6).view(2,3)\n",
    "print(x)\n",
    "indices = torch.LongTensor([1,0])\n",
    "# describe(indices)\n",
    "describe(torch.index_select(x,dim=1,index=indices))\n",
    "# dim 0 = row dim 1 = col"
   ]
  },
  {
   "cell_type": "code",
   "execution_count": 14,
   "metadata": {},
   "outputs": [
    {
     "name": "stdout",
     "output_type": "stream",
     "text": [
      "tensor([2., 3.])\n"
     ]
    },
    {
     "data": {
      "text/plain": [
       "tensor([0.5000, 0.5000])"
      ]
     },
     "execution_count": 14,
     "metadata": {},
     "output_type": "execute_result"
    }
   ],
   "source": [
    "import torch\n",
    "a=torch.Tensor([2,3])\n",
    "print(a)\n",
    "a.requires_grad=True\n",
    "b = torch.mean(a) \n",
    "b.backward() #微分\n",
    "a.grad   #tensor([0.5000, 0.5000])"
   ]
  },
  {
   "cell_type": "markdown",
   "metadata": {},
   "source": [
    "# squeeze 維度新增刪除"
   ]
  },
  {
   "cell_type": "code",
   "execution_count": 15,
   "metadata": {},
   "outputs": [
    {
     "name": "stdout",
     "output_type": "stream",
     "text": [
      ">>Type: torch.LongTensor\n",
      ">>Shape/size: torch.Size([2, 3])\n",
      ">>Values: \n",
      "tensor([[0, 1, 2],\n",
      "        [3, 4, 5]])\n",
      ">>Type: torch.LongTensor\n",
      ">>Shape/size: torch.Size([2, 3, 1])\n",
      ">>Values: \n",
      "tensor([[[0],\n",
      "         [1],\n",
      "         [2]],\n",
      "\n",
      "        [[3],\n",
      "         [4],\n",
      "         [5]]])\n",
      ">>Type: torch.LongTensor\n",
      ">>Shape/size: torch.Size([2, 1, 3])\n",
      ">>Values: \n",
      "tensor([[[0, 1, 2]],\n",
      "\n",
      "        [[3, 4, 5]]])\n"
     ]
    }
   ],
   "source": [
    "# unsqueeze:將維度為1的新增\n",
    "import torch\n",
    "a = torch.arange(6).view(2,3)\n",
    "describe(a)\n",
    "b = a.unsqueeze(2)\n",
    "describe(b)\n",
    "c = a.unsqueeze(1)\n",
    "describe(c)"
   ]
  },
  {
   "cell_type": "code",
   "execution_count": 16,
   "metadata": {},
   "outputs": [
    {
     "name": "stdout",
     "output_type": "stream",
     "text": [
      ">>Type: torch.LongTensor\n",
      ">>Shape/size: torch.Size([2, 3])\n",
      ">>Values: \n",
      "tensor([[0, 1, 2],\n",
      "        [3, 4, 5]])\n"
     ]
    }
   ],
   "source": [
    "# squeeze:將維度為1的去除\n",
    "d = b.squeeze(2)\n",
    "describe(d)"
   ]
  },
  {
   "cell_type": "code",
   "execution_count": 17,
   "metadata": {},
   "outputs": [
    {
     "data": {
      "text/plain": [
       "tensor([[ 3.8798, -3.1615,  5.8402],\n",
       "        [-0.3736,  8.3867,  3.1919],\n",
       "        [ 8.7967,  3.0276, -0.7852],\n",
       "        [ 0.1867, -0.6862,  1.0381],\n",
       "        [ 6.8761, -3.8283,  1.7672]])"
      ]
     },
     "execution_count": 17,
     "metadata": {},
     "output_type": "execute_result"
    }
   ],
   "source": [
    "x = 3 + torch.randn(5,3)*(7-3)\n",
    "x"
   ]
  },
  {
   "cell_type": "code",
   "execution_count": 18,
   "metadata": {},
   "outputs": [
    {
     "data": {
      "text/plain": [
       "tensor([[0],\n",
       "        [1],\n",
       "        [2],\n",
       "        [4]])"
      ]
     },
     "execution_count": 18,
     "metadata": {},
     "output_type": "execute_result"
    }
   ],
   "source": [
    "# get the index of nonzero element\n",
    "x = torch.Tensor([1,1,1,0,1])\n",
    "torch.nonzero(x)"
   ]
  },
  {
   "cell_type": "code",
   "execution_count": 19,
   "metadata": {},
   "outputs": [
    {
     "name": "stdout",
     "output_type": "stream",
     "text": [
      ">>Type: torch.FloatTensor\n",
      ">>Shape/size: torch.Size([3, 1])\n",
      ">>Values: \n",
      "tensor([[0.5794],\n",
      "        [0.2500],\n",
      "        [0.5070]])\n",
      "expand\n",
      "tensor([[0.5794, 0.5794, 0.5794, 0.5794],\n",
      "        [0.2500, 0.2500, 0.2500, 0.2500],\n",
      "        [0.5070, 0.5070, 0.5070, 0.5070]])\n",
      "repeat\n",
      "tensor([[0.5794, 0.5794, 0.5794, 0.5794],\n",
      "        [0.2500, 0.2500, 0.2500, 0.2500],\n",
      "        [0.5070, 0.5070, 0.5070, 0.5070],\n",
      "        [0.5794, 0.5794, 0.5794, 0.5794],\n",
      "        [0.2500, 0.2500, 0.2500, 0.2500],\n",
      "        [0.5070, 0.5070, 0.5070, 0.5070],\n",
      "        [0.5794, 0.5794, 0.5794, 0.5794],\n",
      "        [0.2500, 0.2500, 0.2500, 0.2500],\n",
      "        [0.5070, 0.5070, 0.5070, 0.5070]])\n"
     ]
    }
   ],
   "source": [
    "# expand repeat: 擴展維度\n",
    "a = torch.rand(3,1)\n",
    "describe(a)\n",
    "print('expand')\n",
    "print(a.expand(3,4))\n",
    "print('repeat')\n",
    "print(a.repeat(3,4))"
   ]
  },
  {
   "cell_type": "code",
   "execution_count": null,
   "metadata": {},
   "outputs": [],
   "source": []
  }
 ],
 "metadata": {
  "kernelspec": {
   "display_name": "Python 3",
   "language": "python",
   "name": "python3"
  },
  "language_info": {
   "codemirror_mode": {
    "name": "ipython",
    "version": 3
   },
   "file_extension": ".py",
   "mimetype": "text/x-python",
   "name": "python",
   "nbconvert_exporter": "python",
   "pygments_lexer": "ipython3",
   "version": "3.7.3"
  }
 },
 "nbformat": 4,
 "nbformat_minor": 2
}
