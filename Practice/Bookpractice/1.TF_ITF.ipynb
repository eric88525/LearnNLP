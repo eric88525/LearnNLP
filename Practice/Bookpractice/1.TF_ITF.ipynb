{
 "cells": [
  {
   "cell_type": "markdown",
   "metadata": {},
   "source": [
    "## TF 表示法"
   ]
  },
  {
   "cell_type": "code",
   "execution_count": 34,
   "metadata": {},
   "outputs": [
    {
     "name": "stdout",
     "output_type": "stream",
     "text": [
      "{'like', 'a', 'arrow.', 'Time', 'flies', 'an', 'Fruit', 'banana.'}\n"
     ]
    },
    {
     "data": {
      "text/plain": [
       "<matplotlib.axes._subplots.AxesSubplot at 0x17582e94da0>"
      ]
     },
     "execution_count": 34,
     "metadata": {},
     "output_type": "execute_result"
    },
    {
     "data": {
      "image/png": "[encoded data removed]",
      "text/plain": [
       "<Figure size 432x288 with 1 Axes>"
      ]
     },
     "metadata": {
      "needs_background": "light"
     },
     "output_type": "display_data"
    }
   ],
   "source": [
    "from sklearn.feature_extraction.text import CountVectorizer\n",
    "import seaborn as sns\n",
    "\n",
    "# corpus = 語料庫\n",
    "corpus = ['Time flies flies like an arrow.','Fruit flies like a banana.']\n",
    "vocab = set([word for sen in corpus for word in sen.split(\" \")])\n",
    "print(vocab)\n",
    "one_hot_vectorizer = CountVectorizer(binary = True)\n",
    "one_hot = one_hot_vectorizer.fit_transform(corpus).toarray()\n",
    "vocab = one_hot_vectorizer.get_feature_names()\n",
    "sns.heatmap(one_hot,annot=True,cbar=False,xticklabels=vocab,yticklabels=['Sentence1','Sentence2'])"
   ]
  },
  {
   "cell_type": "code",
   "execution_count": null,
   "metadata": {},
   "outputs": [],
   "source": []
  },
  {
   "cell_type": "markdown",
   "metadata": {},
   "source": [
    "## TF-IDF 逆文件頻"
   ]
  },
  {
   "cell_type": "code",
   "execution_count": 30,
   "metadata": {},
   "outputs": [
    {
     "name": "stdout",
     "output_type": "stream",
     "text": [
      "[[0.42519636 0.42519636 0.         0.60506143 0.         0.30253071\n",
      "  0.42519636]\n",
      " [0.         0.         0.57615236 0.40993715 0.57615236 0.40993715\n",
      "  0.        ]]\n"
     ]
    },
    {
     "data": {
      "text/plain": [
       "<matplotlib.axes._subplots.AxesSubplot at 0x17582e22f28>"
      ]
     },
     "execution_count": 30,
     "metadata": {},
     "output_type": "execute_result"
    },
    {
     "data": {
      "image/png": "[encoded data removed]",
      "text/plain": [
       "<Figure size 432x288 with 1 Axes>"
      ]
     },
     "metadata": {
      "needs_background": "light"
     },
     "output_type": "display_data"
    }
   ],
   "source": [
    "from sklearn.feature_extraction.text import TfidfVectorizer \n",
    "from pprint import pprint\n",
    "import seaborn as sns\n",
    "\n",
    "corpus = ['Time flies flies like an arrow.',\n",
    "          'Fruit flies like a banana.']\n",
    "\n",
    "tfidfV = TfidfVectorizer()\n",
    "tfidf = tfidfV.fit_transform(corpus).toarray()\n",
    "\n",
    "print(tfidf) #詞的頻率\n",
    "\n",
    "sns.heatmap(tfidf, annot=True, cbar=False, xticklabels=vocab,\n",
    "            yticklabels= ['Sentence 1', 'Sentence 2'])\n"
   ]
  },
  {
   "cell_type": "markdown",
   "metadata": {},
   "source": [
    "# Pytorch"
   ]
  },
  {
   "cell_type": "markdown",
   "metadata": {},
   "source": [
    "建立tensor描述工具"
   ]
  },
  {
   "cell_type": "code",
   "execution_count": 31,
   "metadata": {},
   "outputs": [],
   "source": [
    "def describe(x):\n",
    "    print('Type: {}'.format(x.type()))\n",
    "    print('Shape/value: {}'.format(x.shape))\n",
    "    print('Values: \\n{}'.format(x))"
   ]
  },
  {
   "cell_type": "code",
   "execution_count": 32,
   "metadata": {},
   "outputs": [
    {
     "name": "stdout",
     "output_type": "stream",
     "text": [
      "Type: torch.FloatTensor\n",
      "Shape/value: torch.Size([2, 3])\n",
      "Values: \n",
      "tensor([[4.2131e+21, 4.1489e-08, 1.3149e+22],\n",
      "        [1.0781e-08, 3.2508e+21, 2.1747e+23]])\n"
     ]
    }
   ],
   "source": [
    "import torch\n",
    "describe(torch.Tensor(2,3))\n"
   ]
  },
  {
   "cell_type": "code",
   "execution_count": 33,
   "metadata": {},
   "outputs": [
    {
     "name": "stdout",
     "output_type": "stream",
     "text": [
      "Type: torch.FloatTensor\n",
      "Shape/value: torch.Size([2, 3])\n",
      "Values: \n",
      "tensor([[-1.3726,  0.9477,  0.6668],\n",
      "        [ 0.9296,  0.2332, -0.8698]])\n",
      "Type: torch.FloatTensor\n",
      "Shape/value: torch.Size([2, 3])\n",
      "Values: \n",
      "tensor([[-2.7451,  1.8954,  1.3336],\n",
      "        [ 1.8593,  0.4664, -1.7396]])\n"
     ]
    }
   ],
   "source": [
    "\n",
    "x = torch.randn(2,3)\n",
    "describe(x)\n",
    "describe(x+x)"
   ]
  },
  {
   "cell_type": "code",
   "execution_count": null,
   "metadata": {},
   "outputs": [],
   "source": []
  },
  {
   "cell_type": "code",
   "execution_count": null,
   "metadata": {},
   "outputs": [],
   "source": []
  }
 ],
 "metadata": {
  "kernelspec": {
   "display_name": "Python 3",
   "language": "python",
   "name": "python3"
  },
  "language_info": {
   "codemirror_mode": {
    "name": "ipython",
    "version": 3
   },
   "file_extension": ".py",
   "mimetype": "text/x-python",
   "name": "python",
   "nbconvert_exporter": "python",
   "pygments_lexer": "ipython3",
   "version": "3.7.3"
  }
 },
 "nbformat": 4,
 "nbformat_minor": 2
}
