{
 "cells": [
  {
   "cell_type": "code",
   "execution_count": 1,
   "metadata": {},
   "outputs": [
    {
     "ename": "NameError",
     "evalue": "name 'review_subset' is not defined",
     "output_type": "error",
     "traceback": [
      "\u001b[1;31m---------------------------------------------------------------------------\u001b[0m",
      "\u001b[1;31mNameError\u001b[0m                                 Traceback (most recent call last)",
      "\u001b[1;32m<ipython-input-1-5f0bd0d9a402>\u001b[0m in \u001b[0;36m<module>\u001b[1;34m\u001b[0m\n\u001b[0;32m      7\u001b[0m \u001b[1;33m\u001b[0m\u001b[0m\n\u001b[0;32m      8\u001b[0m \u001b[1;33m\u001b[0m\u001b[0m\n\u001b[1;32m----> 9\u001b[1;33m \u001b[1;32mfor\u001b[0m \u001b[0m_\u001b[0m\u001b[1;33m,\u001b[0m\u001b[0mrow\u001b[0m \u001b[1;32min\u001b[0m \u001b[0mreview_subset\u001b[0m\u001b[1;33m.\u001b[0m\u001b[0miterrows\u001b[0m\u001b[1;33m(\u001b[0m\u001b[1;33m)\u001b[0m\u001b[1;33m:\u001b[0m\u001b[1;33m\u001b[0m\u001b[1;33m\u001b[0m\u001b[0m\n\u001b[0m\u001b[0;32m     10\u001b[0m     \u001b[0mby_rating\u001b[0m\u001b[1;33m[\u001b[0m\u001b[0mrow\u001b[0m\u001b[1;33m.\u001b[0m\u001b[0mrating\u001b[0m\u001b[1;33m]\u001b[0m\u001b[1;33m.\u001b[0m\u001b[0mappend\u001b[0m\u001b[1;33m(\u001b[0m\u001b[0mrow\u001b[0m\u001b[1;33m.\u001b[0m\u001b[0mto_dict\u001b[0m\u001b[1;33m(\u001b[0m\u001b[1;33m)\u001b[0m\u001b[1;33m)\u001b[0m\u001b[1;33m\u001b[0m\u001b[1;33m\u001b[0m\u001b[0m\n",
      "\u001b[1;31mNameError\u001b[0m: name 'review_subset' is not defined"
     ]
    }
   ],
   "source": [
    "\n",
    "import collections\n",
    "from collections import defaultdict\n",
    "\n",
    "# 建立一個dictionary，如果沒有key會回傳[]而不是錯誤的那種，超屌\n",
    "by_rating = collections.defaultdict(list)\n",
    "\n",
    "\n",
    "for _,row in review_subset.iterrows():\n",
    "    by_rating[row.rating].append(row.to_dict())"
   ]
  },
  {
   "cell_type": "code",
   "execution_count": null,
   "metadata": {},
   "outputs": [],
   "source": [
    "final_list =[]\n",
    "np.random.seed()"
   ]
  },
  {
   "cell_type": "code",
   "execution_count": 12,
   "metadata": {},
   "outputs": [
    {
     "name": "stdout",
     "output_type": "stream",
     "text": [
      "**** Information from Washington‘s Wikipedia page ****\n",
      "1 - Statement:  (Washington, is, the principal city of the Washington metropolitan area, which has a population of 6,131,977.[6)\n",
      "1 - Fact:  the principal city of the Washington metropolitan area, which has a population of 6,131,977.[6\n",
      "2 - Statement:  (Washington, is, one of the most visited cities in the world, with more than 20 million annual tourists.[8][9)\n",
      "2 - Fact:  one of the most visited cities in the world, with more than 20 million annual tourists.[8][9\n",
      "3 - Statement:  (Washington, is, home to many national monuments and museums, which are primarily situated on or around the National Mall)\n",
      "3 - Fact:  home to many national monuments and museums, which are primarily situated on or around the National Mall\n"
     ]
    }
   ],
   "source": [
    "# coding: utf-8 \n",
    " \n",
    "import spacy \n",
    "import textacy.extract \n",
    " \n",
    "### Load spaCy‘s English NLP model \n",
    "nlp = spacy.load('en_core_web_sm') \n",
    " \n",
    "### The text we want to examine \n",
    "text = \"Washington, D.C., formally the District of Columbia and commonly referred to as Washington or D.C., is the capital of the United States of America.[4] Founded after the American Revolution as the seat of government of the newly independent country, Washington was named after George Washington, first President of the United States and Founding Father.[5] Washington is the principal city of the Washington metropolitan area, which has a population of 6,131,977.[6] As the seat of the United States federal government and several international organizations, the city is an important world political capital.[7] Washington is one of the most visited cities in the world, with more than 20 million annual tourists.[8][9] The signing of the Residence Act on July 16, 1790, approved the creation of a capital district located along the Potomac River on the country‘s East Coast. The U.S. Constitution provided for a federal district under the exclusive jurisdiction of the Congress and the District is therefore not a part of any state. The states of Maryland and Virginia each donated land to form the federal district, which included the pre-existing settlements of Georgetown and Alexandria. Named in honor of President George Washington, the City of Washington was founded in 1791 to serve as the new national capital. In 1846, Congress returned the land originally ceded by Virginia; in 1871, it created a single municipal government for the remaining portion of the District. Washington had an estimated population of 693,972 as of July 2017, making it the 20th largest American city by population. Commuters from the surrounding Maryland and Virginia suburbs raise the city‘s daytime population to more than one million during the workweek. The Washington metropolitan area, of which the District is the principal city, has a population of over 6 million, the sixth-largest metropolitan statistical area in the country. All three branches of the U.S. federal government are centered in the District: U.S. Congress (legislative), President (executive), and the U.S. Supreme Court (judicial). Washington is home to many national monuments and museums, which are primarily situated on or around the National Mall. The city hosts 177 foreign embassies as well as the headquarters of many international organizations, trade unions, non-profit, lobbying groups, and professional associations, including the Organization of American States, AARP, the National Geographic Society, the Human Rights Campaign, the International Finance Corporation, and the American Red Cross. A locally elected mayor and a 13?member council have governed the District since 1973. However, Congress maintains supreme authority over the city and may overturn local laws. D.C. residents elect a non-voting, at-large congressional delegate to the House of Representatives, but the District has no representation in the Senate. The District receives three electoral votes in presidential elections as permitted by the Twenty-third Amendment to the United States Constitution, ratified in 1961.\"\n",
    "### Parse the text with spaCy \n",
    "### Our ‘document‘ variable now contains a parsed version of text. \n",
    "document = nlp(text) \n",
    " \n",
    "### Extracting semi-structured statements \n",
    "statements = textacy.extract.semistructured_statements(document, \"Washington\") \n",
    " \n",
    "print(\"**** Information from Washington‘s Wikipedia page ****\") \n",
    "count = 1 \n",
    "for statement in statements: \n",
    "    subject, verb, fact = statement \n",
    "    print(str(count) + \" - Statement: \", statement) \n",
    "    print(str(count) + \" - Fact: \", fact) \n",
    "    count += 1"
   ]
  },
  {
   "cell_type": "code",
   "execution_count": 2,
   "metadata": {},
   "outputs": [
    {
     "name": "stdout",
     "output_type": "stream",
     "text": [
      "<generator object semistructured_statements at 0x0000019C333A2E58>\n",
      "**** Information from Washington‘s Wikipedia page ****\n",
      "1 - Statement:  (Washington, is, the principal city of the Washington metropolitan area, which has a population of 6,131,977.[6)\n",
      "1 - Fact:  the principal city of the Washington metropolitan area, which has a population of 6,131,977.[6\n",
      "2 - Statement:  (Washington, is, one of the most visited cities in the world, with more than 20 million annual tourists.[8][9)\n",
      "2 - Fact:  one of the most visited cities in the world, with more than 20 million annual tourists.[8][9\n",
      "3 - Statement:  (Washington, is, home to many national monuments and museums, which are primarily situated on or around the National Mall)\n",
      "3 - Fact:  home to many national monuments and museums, which are primarily situated on or around the National Mall\n"
     ]
    }
   ],
   "source": [
    "# coding: utf-8 \n",
    " \n",
    "import spacy \n",
    "import textacy.extract \n",
    " \n",
    "### Load spaCy‘s English NLP model \n",
    "nlp = spacy.load('en_core_web_sm') \n",
    " \n",
    "### The text we want to examine \n",
    "\n",
    "text = \"Washington, D.C., formally the District of Columbia and commonly referred to as Washington or D.C., is the capital of the United States of America.[4] Founded after the American Revolution as the seat of government of the newly independent country, Washington was named after George Washington, first President of the United States and Founding Father.[5] Washington is the principal city of the Washington metropolitan area, which has a population of 6,131,977.[6] As the seat of the United States federal government and several international organizations, the city is an important world political capital.[7] Washington is one of the most visited cities in the world, with more than 20 million annual tourists.[8][9] The signing of the Residence Act on July 16, 1790, approved the creation of a capital district located along the Potomac River on the country‘s East Coast. The U.S. Constitution provided for a federal district under the exclusive jurisdiction of the Congress and the District is therefore not a part of any state. The states of Maryland and Virginia each donated land to form the federal district, which included the pre-existing settlements of Georgetown and Alexandria. Named in honor of President George Washington, the City of Washington was founded in 1791 to serve as the new national capital. In 1846, Congress returned the land originally ceded by Virginia; in 1871, it created a single municipal government for the remaining portion of the District. Washington had an estimated population of 693,972 as of July 2017, making it the 20th largest American city by population. Commuters from the surrounding Maryland and Virginia suburbs raise the city‘s daytime population to more than one million during the workweek. The Washington metropolitan area, of which the District is the principal city, has a population of over 6 million, the sixth-largest metropolitan statistical area in the country. All three branches of the U.S. federal government are centered in the District: U.S. Congress (legislative), President (executive), and the U.S. Supreme Court (judicial). Washington is home to many national monuments and museums, which are primarily situated on or around the National Mall. The city hosts 177 foreign embassies as well as the headquarters of many international organizations, trade unions, non-profit, lobbying groups, and professional associations, including the Organization of American States, AARP, the National Geographic Society, the Human Rights Campaign, the International Finance Corporation, and the American Red Cross. A locally elected mayor and a 13?member council have governed the District since 1973. However, Congress maintains supreme authority over the city and may overturn local laws. D.C. residents elect a non-voting, at-large congressional delegate to the House of Representatives, but the District has no representation in the Senate. The District receives three electoral votes in presidential elections as permitted by the Twenty-third Amendment to the United States Constitution, ratified in 1961.\"\n",
    "\n",
    "### Parse the text with spaCy \n",
    "### Our ‘document‘ variable now contains a parsed version of text. \n",
    "document = nlp(text) \n",
    " \n",
    "### Extracting semi-structured statements \n",
    "statements = textacy.extract.semistructured_statements(document, \"Washington\") \n",
    "print(statements)\n",
    "print(\"**** Information from Washington‘s Wikipedia page ****\") \n",
    "count = 1 \n",
    "for statement in statements: \n",
    "    subject, verb, fact = statement \n",
    "    print(str(count) + \" - Statement: \", statement) \n",
    "    print(str(count) + \" - Fact: \", fact) \n",
    "    count += 1"
   ]
  },
  {
   "cell_type": "code",
   "execution_count": 10,
   "metadata": {},
   "outputs": [
    {
     "name": "stdout",
     "output_type": "stream",
     "text": [
      "**** Information from Washington‘s Wikipedia page ****\n"
     ]
    }
   ],
   "source": [
    "# coding: utf-8 \n",
    " \n",
    "import spacy \n",
    "import textacy.extract \n",
    " \n",
    "### Load spaCy‘s English NLP model \n",
    "nlp = spacy.load('en_core_web_sm') \n",
    " \n",
    "### The text we want to examine \n",
    "\n",
    "text=\"North Korea has launched two unidentified projectiles, South Korea's military says, in its first apparent weapons test of the year.\"\n",
    "document = nlp(text) \n",
    " \n",
    "### Extracting semi-structured statements \n",
    "statements = textacy.extract.semistructured_statements(document, \"Korea\") \n",
    " \n",
    "print(\"**** Information from Washington‘s Wikipedia page ****\") \n",
    "count = 1 \n",
    "if not statements:\n",
    "    print('nono')\n",
    "\n",
    "for statement in statements: \n",
    "    print(statement)\n",
    "    subject, verb, fact = statement \n",
    "    print(str(count) + \" - Statement: \", statement) \n",
    "    print(str(count) + \" - Fact: \", fact) \n",
    "    count += 1"
   ]
  },
  {
   "cell_type": "code",
   "execution_count": null,
   "metadata": {},
   "outputs": [],
   "source": []
  },
  {
   "cell_type": "code",
   "execution_count": null,
   "metadata": {},
   "outputs": [],
   "source": []
  }
 ],
 "metadata": {
  "kernelspec": {
   "display_name": "Python 3",
   "language": "python",
   "name": "python3"
  },
  "language_info": {
   "codemirror_mode": {
    "name": "ipython",
    "version": 3
   },
   "file_extension": ".py",
   "mimetype": "text/x-python",
   "name": "python",
   "nbconvert_exporter": "python",
   "pygments_lexer": "ipython3",
   "version": "3.7.3"
  }
 },
 "nbformat": 4,
 "nbformat_minor": 2
}
