{
 "cells": [
  {
   "cell_type": "markdown",
   "metadata": {},
   "source": [
    "# SEQUENCE-TO-SEQUENCE MODELING WITH NN.TRANSFORMER AND TORCHTEXT"
   ]
  },
  {
   "cell_type": "code",
   "execution_count": 6,
   "metadata": {},
   "outputs": [],
   "source": [
    "import math\n",
    "import torch\n",
    "import torch.nn as nn\n",
    "import torch.nn\n",
    "\n",
    "class TransformerModel(nn.Module):\n",
    "    def __init__(self,ntoken,ninp,nhead,nhid,nlayers,dropout=0.5):\n",
    "        super(TransformerModel,self).__init__()\n",
    "        from torch.nn import  TransformerEncoder,TransformerEncoderLayer\n",
    "        self.model_type = 'Transformer'\n",
    "        self.src_mask = None\n",
    "        self.pos_encoder = PositionalEncoding(ninp,dropout)\n",
    "        \n",
    "        # 輸入feature數,multihead attention head number,dim_feedforward,dropout\n",
    "        encoder_layers = TransformerEncoderLayer(ninp,nhead,nhid,dropout)\n",
    "        # torch.nn.TransformerEncoder(encoder_layer, num_layers, norm=None)\n",
    "        self.transformer_encoder = TransformerEncoder(encoder_layers,nlayers)\n",
    "        \n",
    "        \n",
    "        "
   ]
  },
  {
   "cell_type": "code",
   "execution_count": 4,
   "metadata": {},
   "outputs": [],
   "source": []
  },
  {
   "cell_type": "code",
   "execution_count": null,
   "metadata": {},
   "outputs": [],
   "source": []
  }
 ],
 "metadata": {
  "kernelspec": {
   "display_name": "Python 3",
   "language": "python",
   "name": "python3"
  },
  "language_info": {
   "codemirror_mode": {
    "name": "ipython",
    "version": 3
   },
   "file_extension": ".py",
   "mimetype": "text/x-python",
   "name": "python",
   "nbconvert_exporter": "python",
   "pygments_lexer": "ipython3",
   "version": "3.7.3"
  }
 },
 "nbformat": 4,
 "nbformat_minor": 2
}
