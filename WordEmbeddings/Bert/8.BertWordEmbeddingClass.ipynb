{
 "cells": [
  {
   "cell_type": "code",
   "execution_count": 1,
   "metadata": {},
   "outputs": [],
   "source": [
    "from pytorch_pretrained_bert import BertTokenizer, BertModel, BertForMaskedLM\n",
    "import torch\n",
    "class bertWordEmbedding():\n",
    "    def __init__(self,toCUDA):\n",
    "        self.tokenizer = BertTokenizer.from_pretrained('bert-base-uncased')\n",
    "        self.model = BertModel.from_pretrained('bert-base-uncased') \n",
    "        self.toCUDA =toCUDA\n",
    "        print('create model...')\n",
    "        if toCUDA ==1 :\n",
    "            if torch.cuda.is_available():\n",
    "                print('to CUDA')\n",
    "                self.model.to('cuda')\n",
    "            else:\n",
    "                print('Hey man,you device not support CUDA, go back to use CPU')\n",
    "                \n",
    "        print('create end')\n",
    "        print('How to use?')\n",
    "        print('Format:  class.word2vec(\"Your text\",mode)')\n",
    "        print('Mode:1 sum last 4 hidden state' )\n",
    "        print('Mode 2: concat last 4 hidden state')\n",
    "        print('It will return (wordEmbeddings([mode1]n*768 or [mode2]n*(768*4)),sentenceEmbeddings(1*768)')\n",
    "        \n",
    "    def word2vec(self,text,mode):\n",
    "        print('analyzing...')\n",
    "        text = '[SEP] '+text+' [CLS]'\n",
    "        \n",
    "        tokenizedtext = self.tokenizer.tokenize(text)\n",
    "        indexed_tokens = self.tokenizer.convert_tokens_to_ids(tokenizedtext)\n",
    "        tokens_tensor = torch.tensor([indexed_tokens])\n",
    "         \n",
    "        segments_tensors = torch.tensor([1]*len([tokenizedtext]))\n",
    "        \n",
    "        \n",
    "        with torch.no_grad():\n",
    "            if self.toCUDA ==1:\n",
    "                tokens_tensor=tokens_tensor.to('cuda')\n",
    "                segments_tensors=segments_tensors.to('cuda')\n",
    "            encoded_layers,_= self.model(tokens_tensor,segments_tensors)\n",
    "        \n",
    "        print('Get layers hidden done')\n",
    "        token_embeddings = torch.stack(encoded_layers, dim=0)\n",
    "        token_embeddings = torch.squeeze(token_embeddings,dim=1)\n",
    "        token_embeddings = token_embeddings.permute(1,0,2)\n",
    "        \n",
    "        token_vec=[]\n",
    "        if mode==1:\n",
    "            #sum last 4: mode 1\n",
    "            for token in token_embeddings:\n",
    "                sm = torch.sum(token[-4:],dim=0)\n",
    "                token_vec.append(sm)\n",
    "            token_vec = token_vec[1:-1]\n",
    "            print('wordEmbeddings(sum last 4) result size is:{} words , size:{}*{} '.format(len(token_vec),len(token_vec),len(token_vec[0])))  \n",
    "        elif mode == 2:\n",
    "             #cat\n",
    "            for token in token_embeddings:\n",
    "                cat = torch.cat((token[-1],token[-2],token[-3],token[-4]),dim=0)\n",
    "                token_vec.append(cat)\n",
    "                \n",
    "            token_vec = token_vec[1:-1]\n",
    "            print('wordEmbeddings(cat) result size is:{} words , size:{}*{} '.format(len(token_vec),len(token_vec),len(token_vec[0])))  \n",
    "        \n",
    "        \n",
    "        sequence_vecs = encoded_layers[11][0]\n",
    "        # Calculate the average of all 22 token vectors.\n",
    "        sentence_embedding = torch.mean(sequence_vecs, dim=0)\n",
    "        print('sentenceEmbeddings result size is:{}'.format(len(sentence_embedding)))\n",
    "        print('done')\n",
    "        \n",
    "        \n",
    "        return (token_vec,sentence_embedding)"
   ]
  },
  {
   "cell_type": "code",
   "execution_count": null,
   "metadata": {},
   "outputs": [
    {
     "name": "stdout",
     "output_type": "stream",
     "text": [
      "create model...\n"
     ]
    }
   ],
   "source": [
    "superman = bertWordEmbedding(1)\n"
   ]
  },
  {
   "cell_type": "code",
   "execution_count": null,
   "metadata": {},
   "outputs": [],
   "source": [
    "a = superman.word2vec('Hello world',1)\n",
    "a"
   ]
  },
  {
   "cell_type": "code",
   "execution_count": null,
   "metadata": {},
   "outputs": [],
   "source": [
    "print(len(a[0][0]))"
   ]
  },
  {
   "cell_type": "code",
   "execution_count": null,
   "metadata": {},
   "outputs": [],
   "source": []
  },
  {
   "cell_type": "code",
   "execution_count": null,
   "metadata": {},
   "outputs": [],
   "source": []
  }
 ],
 "metadata": {
  "kernelspec": {
   "display_name": "Python 3",
   "language": "python",
   "name": "python3"
  },
  "language_info": {
   "codemirror_mode": {
    "name": "ipython",
    "version": 3
   },
   "file_extension": ".py",
   "mimetype": "text/x-python",
   "name": "python",
   "nbconvert_exporter": "python",
   "pygments_lexer": "ipython3",
   "version": "3.7.3"
  }
 },
 "nbformat": 4,
 "nbformat_minor": 2
}
